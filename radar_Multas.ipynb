{
 "cells": [
  {
   "cell_type": "code",
   "execution_count": 25,
   "metadata": {},
   "outputs": [],
   "source": [
    "# import packages\n",
    "import pandas as pd\n",
    "import time\n",
    "import datetime\n",
    "import numpy as np\n",
    "import matplotlib.pyplot as plt\n",
    "import chromedriver_binary\n",
    "import random\n",
    "from datetime import timedelta, date\n",
    "from selenium import webdriver\n",
    "from selenium.webdriver.support.ui import Select\n",
    "from selenium.webdriver.support.ui import WebDriverWait\n",
    "from selenium.webdriver.common.by import By\n",
    "from selenium.webdriver.support import expected_conditions as EC\n",
    "from selenium.webdriver.edge.options import Options\n",
    "from selenium.common.exceptions import NoSuchElementException\n",
    "\n",
    "# login and passaword\n",
    "f=open(\"account.txt\",\"r\")\n",
    "lines=f.readlines()\n",
    "username=lines[0]\n",
    "password=lines[1]\n",
    "site = lines[2]\n",
    "site_login = lines[3]\n",
    "f.close()"
   ]
  },
  {
   "cell_type": "code",
   "execution_count": 43,
   "metadata": {},
   "outputs": [
    {
     "name": "stderr",
     "output_type": "stream",
     "text": [
      "C:\\Users\\Filipe\\AppData\\Local\\Temp\\ipykernel_10900\\449561914.py:11: DeprecationWarning: find_element_by_* commands are deprecated. Please use find_element() instead\n",
      "  element = driver.find_element_by_id('Entrar')\n"
     ]
    },
    {
     "name": "stdout",
     "output_type": "stream",
     "text": [
      "Login failed\n",
      "Acess Menu successfully\n"
     ]
    }
   ],
   "source": [
    "driver = webdriver.Edge() \n",
    "driver.get(site)\n",
    "\n",
    "\n",
    "def login():\n",
    "  try:\n",
    "    element = WebDriverWait(driver, 10).until(EC.presence_of_element_located((By.ID, 'usuario')))       \n",
    "    element.send_keys(username)\n",
    "    element = driver.find_element(By.ID, \"password\")\n",
    "    element.send_keys(password)\n",
    "    element = driver.find_element_by_id('Entrar')\n",
    "    element.click()\n",
    "    print(\"Login successfully\")\n",
    "  except Exception as e:\n",
    "    print(\"Login failed\")\n",
    "  try:\n",
    "    #acess the search of the taxs\n",
    "    element = WebDriverWait(driver, 12).until(EC.element_to_be_clickable((By.CSS_SELECTOR, \n",
    "    'body > div.bg > div > div.bg.ng-scope > div.ng-scope > header > nav > div > ul > li.menu-principal.menu-dropdown')))\n",
    "    element.click()\n",
    "    element = WebDriverWait(driver, 12).until(EC.presence_of_element_located((By.CSS_SELECTOR, \n",
    "    'body > div > div > div.bg.ng-scope > div.ng-scope > header > nav > div > ul > li.menu-principal.menu-dropdown.open > ul > div > li:nth-child(1) > ul > li:nth-child(1) > a')))\n",
    "    element.click()\n",
    "    element = WebDriverWait(driver, 12).until(EC.element_to_be_clickable((By.ID,'abaBuscaAvancada')))\n",
    "    element.click()\n",
    "    print(\"Acess Menu successfully\")\n",
    "  except Exception as e:\n",
    "    print(\"Acess Menu failed\")\n",
    "\n",
    "login() "
   ]
  },
  {
   "cell_type": "code",
   "execution_count": 11,
   "metadata": {},
   "outputs": [
    {
     "name": "stderr",
     "output_type": "stream",
     "text": [
      "c:\\Users\\Filipe\\AppData\\Local\\Programs\\Python\\Python310\\lib\\site-packages\\openpyxl\\styles\\stylesheet.py:226: UserWarning: Workbook contains no default style, apply openpyxl's default\n",
      "  warn(\"Workbook contains no default style, apply openpyxl's default\")\n"
     ]
    }
   ],
   "source": [
    "df_april = pd.read_excel(\"ResultadoConsultaInfracoes_abril.xlsx\", skiprows=5)\n",
    "df_april.columns = df_april.iloc[0]\n",
    "df_april = df_april[1:]\n",
    "df_test = df_april['N. Auto'].head(100)\n"
   ]
  },
  {
   "cell_type": "code",
   "execution_count": 11,
   "metadata": {},
   "outputs": [],
   "source": [
    "sne_list = []\n",
    "adress_list = []\n",
    "date_hour_list = []\n",
    "date_list = []\n",
    "hour_list = []\n",
    "code_list = []\n",
    "reg_list = []\n",
    "# jud_list = []\n",
    "origin_list = []\n",
    "\n",
    "def reg_():\n",
    "    reg = [reg.split(': ', 1)[1] for reg in reg_list]\n",
    "    return(reg)\n",
    "\n",
    "def adress_():\n",
    "    adress = [adress.split(': ', 1)[1] for adress in adress_list]\n",
    "    return(adress)\n",
    "\n",
    "def code_():\n",
    "    codes = [code.replace(' - ', '') for code in code_list]\n",
    "    code = [code.split(': ', 1)[1] for code in codes]\n",
    "    return(code)\n",
    "\n",
    "def date_():\n",
    "    date_hour = [date_hour.split(': ', 1)[1] for date_hour in date_hour_list]\n",
    "    date = [date.split(' ', 1)[0] for date in date_hour]\n",
    "    return(date)\n",
    "\n",
    "def hour_():\n",
    "    date_hour = [date_hour.split(': ', 1)[1] for date_hour in date_hour_list]\n",
    "    hour = [hour.split(' ', 1)[1] for hour in date_hour]\n",
    "    return(hour)\n",
    "\n",
    "\n",
    "\n",
    "def souce_finn(auto):\n",
    "    try:\n",
    "        print(\"Start Search\")\n",
    "        element = WebDriverWait(driver, 10).until(EC.presence_of_element_located((By.ID, 'codigo')))\n",
    "        element.clear()\n",
    "        element.send_keys(str(auto))\n",
    "        element = WebDriverWait(driver, 10).until(EC.element_to_be_clickable((By.ID, 'btnBuscaAvancada')))\n",
    "        time.sleep(0.75)\n",
    "        element.click()\n",
    "        element = WebDriverWait(driver, 12).until(EC.invisibility_of_element((By.CLASS_NAME, 'loading-root')))\n",
    "        table_id = WebDriverWait(driver, 10).until(EC.visibility_of_element_located((By.CSS_SELECTOR, '#vm\\.id > tbody')))\n",
    "\n",
    "        print(\"Information SEI:\")\n",
    "        rows = table_id.find_elements(By.TAG_NAME, \"tr\") \n",
    "        for row in rows:\n",
    "            col_11 = row.find_elements(By.TAG_NAME, \"td\")[11]\n",
    "            print(col_11.text)\n",
    "            sne_list.append(col_11.text)\n",
    "\n",
    "        print(\"Accessing the info box\")\n",
    "        element = WebDriverWait(driver, 12).until(EC.element_to_be_clickable((By.CSS_SELECTOR, '#vm\\.id > tbody > tr > td:nth-child(2) > a')))\n",
    "        time.sleep(0.75)\n",
    "        element.click()\n",
    "        element = WebDriverWait(driver, 12).until(EC.invisibility_of_element((By.CLASS_NAME, 'loading-root')))\n",
    "\n",
    "        # get adress\n",
    "        adress = driver.find_elements_by_xpath('//*[@id=\"imprimirMulta\"]/fieldset[5]/div/div[1]')[0].text\n",
    "        if adress == '':\n",
    "            adress = driver.find_elements_by_xpath('//*[@id=\"imprimirMulta\"]/fieldset[5]/div/div[2]')[0].text\n",
    "        if adress == '':\n",
    "            adress = driver.find_elements_by_xpath('//*[@id=\"imprimirMulta\"]/fieldset[6]/div/div[2]')[0].text\n",
    "        print(adress)\n",
    "        adress_list.append(adress) \n",
    "        \n",
    "        # get code \n",
    "        code = driver.find_elements_by_xpath('//*[@id=\"imprimirMulta\"]/fieldset[6]/div/div[1]')[0].text\n",
    "        if code == '':\n",
    "            code =  driver.find_elements_by_xpath('//*[@id=\"imprimirMulta\"]/fieldset[7]/div/div[1]')[0].text\n",
    "        print(code)\n",
    "        code_list.append(code)\n",
    "        \n",
    "        # get reg\n",
    "        reg = driver.find_elements_by_xpath('//*[@id=\"imprimirMulta\"]/fieldset[6]/div/div[7]')[0].text\n",
    "        if \"Matrícula\" not in reg:\n",
    "            reg = driver.find_elements_by_xpath('//*[@id=\"imprimirMulta\"]/fieldset[7]/div/div[7]')[0].text\n",
    "        print(reg)\n",
    "        reg_list.append(reg)\n",
    "\n",
    "        # get  date and hours\n",
    "        date_hour = driver.find_elements_by_xpath('//*[@id=\"imprimirMulta\"]/fieldset[5]/div/div[5]')[0].text\n",
    "        if date_hour == '':\n",
    "            date_hour = driver.find_elements_by_xpath('//*[@id=\"imprimirMulta\"]/fieldset[6]/div/div[5]')[0].text\n",
    "        print(date_hour)\n",
    "        date_hour_list.append(date_hour)\n",
    "               \n",
    "        driver.find_element_by_css_selector(\"#btnFecharDetalhe\").click()\n",
    "    except Exception as e:\n",
    "      print(e)\n",
    "      print(\"ERROR\")"
   ]
  },
  {
   "cell_type": "code",
   "execution_count": null,
   "metadata": {},
   "outputs": [],
   "source": [
    "for i in df_test:\n",
    "    if i[:2] == 'TR':\n",
    "        origin = \"Radar\"\n",
    "    else:\n",
    "        origin = \"DOFT\"   \n",
    "    origin_list.append(origin)   \n",
    "    print(\"Auto:\", i)\n",
    "    souce_finn(i)\n",
    "\n",
    "reg_list = reg_()\n",
    "adress_list = adress_()\n",
    "code_list = code_()\n",
    "date_list = date_()\n",
    "hour_list = hour_()"
   ]
  }
 ],
 "metadata": {
  "kernelspec": {
   "display_name": "Python 3.10.5 64-bit",
   "language": "python",
   "name": "python3"
  },
  "language_info": {
   "codemirror_mode": {
    "name": "ipython",
    "version": 3
   },
   "file_extension": ".py",
   "mimetype": "text/x-python",
   "name": "python",
   "nbconvert_exporter": "python",
   "pygments_lexer": "ipython3",
   "version": "3.10.5"
  },
  "orig_nbformat": 4,
  "vscode": {
   "interpreter": {
    "hash": "3819be7d046ce7172a29c7ea62930819e69ea9f7858c8a1754d32b30aaf1189d"
   }
  }
 },
 "nbformat": 4,
 "nbformat_minor": 2
}
