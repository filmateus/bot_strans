{
 "cells": [
  {
   "cell_type": "code",
   "execution_count": 1,
   "metadata": {},
   "outputs": [],
   "source": [
    "# import packages\n",
    "import pandas as pd\n",
    "import time\n",
    "import datetime\n",
    "import numpy as np\n",
    "import matplotlib.pyplot as plt\n",
    "import chromedriver_binary\n",
    "import random\n",
    "from datetime import timedelta, date\n",
    "from selenium import webdriver\n",
    "from selenium.webdriver.support.ui import Select\n",
    "from selenium.webdriver.support.ui import WebDriverWait\n",
    "from selenium.webdriver.common.by import By\n",
    "from selenium.webdriver.support import expected_conditions as EC\n",
    "from selenium.webdriver.edge.options import Options\n",
    "from selenium.common.exceptions import NoSuchElementException"
   ]
  },
  {
   "cell_type": "code",
   "execution_count": 7,
   "metadata": {},
   "outputs": [
    {
     "name": "stderr",
     "output_type": "stream",
     "text": [
      "C:\\Users\\Filipe\\AppData\\Local\\Temp\\ipykernel_12448\\3031278142.py:15: DeprecationWarning: find_element_by_* commands are deprecated. Please use find_element() instead\n",
      "  element = driver.find_element_by_id('Entrar')\n"
     ]
    },
    {
     "name": "stdout",
     "output_type": "stream",
     "text": [
      "login feito\n",
      "Acesso Menu realizado\n",
      "Operação completa\n"
     ]
    }
   ],
   "source": [
    "\n",
    "params = {'login':'04222526380',\n",
    "          'password':'339715'}\n",
    "\n",
    "driver = webdriver.Edge() # escolhendo o driver\n",
    "driver.get(\"https://radar.serpro.gov.br/\")# select site\n",
    "\n",
    "def login():\n",
    "  currentUrl = driver.current_url;\n",
    "  if currentUrl == \"https://radar.serpro.gov.br/main.html#/login\":\n",
    "    try:\n",
    "      element = WebDriverWait(driver, 10).until(EC.presence_of_element_located((By.ID, 'usuario')))       \n",
    "      element.send_keys(params['login'])\n",
    "      element = driver.find_element(By.ID, \"password\")\n",
    "      element.send_keys(params['password'])\n",
    "      element = driver.find_element_by_id('Entrar')\n",
    "      element.click()\n",
    "      print(\"login feito\")\n",
    "      #acess the search of the taxs\n",
    "      element = WebDriverWait(driver, 12).until(EC.element_to_be_clickable((By.CSS_SELECTOR, \n",
    "      'body > div.bg > div > div.bg.ng-scope > div.ng-scope > header > nav > div > ul > li.menu-principal.menu-dropdown')))\n",
    "      element.click()\n",
    "      element = WebDriverWait(driver, 12).until(EC.presence_of_element_located((By.CSS_SELECTOR, \n",
    "      'body > div > div > div.bg.ng-scope > div.ng-scope > header > nav > div > ul > li.menu-principal.menu-dropdown.open > ul > div > li:nth-child(1) > ul > li:nth-child(1) > a')))\n",
    "      element.click()\n",
    "      element = WebDriverWait(driver, 12).until(EC.element_to_be_clickable((By.ID,'abaBuscaAvancada')))\n",
    "      element.click()\n",
    "      print(\"Acesso Menu realizado\")\n",
    "    except Exception as e:\n",
    "      print(\"Não foi possível fazer login\")\n",
    "      print(e)\n",
    "  print(\"Operação completa\")\n",
    "  \n",
    "login() "
   ]
  },
  {
   "cell_type": "code",
   "execution_count": 18,
   "metadata": {},
   "outputs": [
    {
     "name": "stderr",
     "output_type": "stream",
     "text": [
      "C:\\Users\\Filipe\\AppData\\Local\\Temp\\ipykernel_12448\\2532689713.py:5: DeprecationWarning: find_element_by_* commands are deprecated. Please use find_element() instead\n",
      "  element = driver.find_element_by_id('btnBuscaAvancada')\n"
     ]
    },
    {
     "name": "stdout",
     "output_type": "stream",
     "text": [
      "Pesquisa Realizada\n",
      "Local: Av. Maranhao, prox ao n. 2141\n",
      "Data/Hora: 30/04/2022 23:58:47\n",
      "Código: 7463 - 0\n",
      "Matrícula do Agente: 10750\n"
     ]
    },
    {
     "name": "stderr",
     "output_type": "stream",
     "text": [
      "C:\\Users\\Filipe\\AppData\\Local\\Temp\\ipykernel_12448\\2532689713.py:11: DeprecationWarning: find_elements_by_xpath is deprecated. Please use find_elements(by=By.XPATH, value=xpath) instead\n",
      "  local = driver.find_elements_by_xpath('//*[@id=\"imprimirMulta\"]/fieldset[5]/div/div[1]')[0].text\n",
      "C:\\Users\\Filipe\\AppData\\Local\\Temp\\ipykernel_12448\\2532689713.py:12: DeprecationWarning: find_elements_by_xpath is deprecated. Please use find_elements(by=By.XPATH, value=xpath) instead\n",
      "  data_hora = driver.find_elements_by_xpath('//*[@id=\"imprimirMulta\"]/fieldset[5]/div/div[5]')[0].text\n",
      "C:\\Users\\Filipe\\AppData\\Local\\Temp\\ipykernel_12448\\2532689713.py:13: DeprecationWarning: find_elements_by_xpath is deprecated. Please use find_elements(by=By.XPATH, value=xpath) instead\n",
      "  codigo = driver.find_elements_by_xpath('//*[@id=\"imprimirMulta\"]/fieldset[6]/div/div[1]')[0].text\n",
      "C:\\Users\\Filipe\\AppData\\Local\\Temp\\ipykernel_12448\\2532689713.py:14: DeprecationWarning: find_elements_by_xpath is deprecated. Please use find_elements(by=By.XPATH, value=xpath) instead\n",
      "  agente = driver.find_elements_by_xpath('//*[@id=\"imprimirMulta\"]/fieldset[6]/div/div[7]')[0].text\n"
     ]
    }
   ],
   "source": [
    "def souce_fine():\n",
    "    try:\n",
    "        element = WebDriverWait(driver, 10).until(EC.presence_of_element_located((By.ID, 'codigo'))) \n",
    "        element.send_keys('ER00010639')\n",
    "        element = driver.find_element_by_id('btnBuscaAvancada')\n",
    "        element.click()\n",
    "        print(\"Pesquisa Realizada\")\n",
    "        element = WebDriverWait(driver, 12).until(EC.element_to_be_clickable((By.CSS_SELECTOR, '#vm\\.id > tbody > tr > td:nth-child(2) > a')))\n",
    "        element.click()\n",
    "        time.sleep(2)\n",
    "        local = driver.find_elements_by_xpath('//*[@id=\"imprimirMulta\"]/fieldset[5]/div/div[1]')[0].text\n",
    "        data_hora = driver.find_elements_by_xpath('//*[@id=\"imprimirMulta\"]/fieldset[5]/div/div[5]')[0].text\n",
    "        codigo = driver.find_elements_by_xpath('//*[@id=\"imprimirMulta\"]/fieldset[6]/div/div[1]')[0].text\n",
    "        agente = driver.find_elements_by_xpath('//*[@id=\"imprimirMulta\"]/fieldset[6]/div/div[7]')[0].text\n",
    "        print(local)\n",
    "        print(data_hora)\n",
    "        print(codigo)\n",
    "        print(agente)\n",
    "    except Exception as e:\n",
    "      print(\"Acesso Pesquisa\")\n",
    "      print(e)\n",
    "      print(\"Operação completa\")\n",
    "\n",
    "souce_fine()\n"
   ]
  }
 ],
 "metadata": {
  "kernelspec": {
   "display_name": "Python 3.10.5 64-bit",
   "language": "python",
   "name": "python3"
  },
  "language_info": {
   "codemirror_mode": {
    "name": "ipython",
    "version": 3
   },
   "file_extension": ".py",
   "mimetype": "text/x-python",
   "name": "python",
   "nbconvert_exporter": "python",
   "pygments_lexer": "ipython3",
   "version": "3.10.5"
  },
  "orig_nbformat": 4,
  "vscode": {
   "interpreter": {
    "hash": "3819be7d046ce7172a29c7ea62930819e69ea9f7858c8a1754d32b30aaf1189d"
   }
  }
 },
 "nbformat": 4,
 "nbformat_minor": 2
}
