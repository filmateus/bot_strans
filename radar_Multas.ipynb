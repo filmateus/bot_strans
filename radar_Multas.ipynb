{
 "cells": [
  {
   "cell_type": "code",
   "execution_count": 1,
   "metadata": {},
   "outputs": [],
   "source": [
    "# import packages\n",
    "import pandas as pd\n",
    "import time\n",
    "import datetime\n",
    "import numpy as np\n",
    "import matplotlib.pyplot as plt\n",
    "import chromedriver_binary\n",
    "import random\n",
    "from datetime import timedelta, date\n",
    "from selenium import webdriver\n",
    "from selenium.webdriver.support.ui import Select\n",
    "from selenium.webdriver.support.ui import WebDriverWait\n",
    "from selenium.webdriver.common.by import By\n",
    "from selenium.webdriver.support import expected_conditions as EC\n",
    "from selenium.webdriver.edge.options import Options\n",
    "from selenium.common.exceptions import NoSuchElementException"
   ]
  },
  {
   "cell_type": "code",
   "execution_count": 2,
   "metadata": {},
   "outputs": [],
   "source": [
    "#parametros e site\n",
    "params = {'login':'04222526380',\n",
    "          'password':'339715'}\n",
    "\n",
    "driver = webdriver.Edge() # escolhendo o driver\n",
    "driver.get(\"https://radar.serpro.gov.br/\")# select site\n"
   ]
  },
  {
   "cell_type": "code",
   "execution_count": 3,
   "metadata": {},
   "outputs": [
    {
     "name": "stderr",
     "output_type": "stream",
     "text": [
      "C:\\Users\\Filipe\\AppData\\Local\\Temp\\ipykernel_10076\\3153827461.py:9: DeprecationWarning: find_element_by_* commands are deprecated. Please use find_element() instead\n",
      "  element = driver.find_element_by_id('Entrar')\n"
     ]
    },
    {
     "name": "stdout",
     "output_type": "stream",
     "text": [
      "login feito\n",
      "Acesso Menu realizado\n",
      "Operação completa\n"
     ]
    }
   ],
   "source": [
    "def login():\n",
    "  currentUrl = driver.current_url;\n",
    "  if currentUrl == \"https://radar.serpro.gov.br/main.html#/login\":\n",
    "    try:\n",
    "      element = WebDriverWait(driver, 10).until(EC.presence_of_element_located((By.ID, 'usuario')))       \n",
    "      element.send_keys(params['login'])\n",
    "      element = driver.find_element(By.ID, \"password\")\n",
    "      element.send_keys(params['password'])\n",
    "      element = driver.find_element_by_id('Entrar')\n",
    "      element.click()\n",
    "      print(\"login feito\")\n",
    "      #acess the search of the taxs\n",
    "      element = WebDriverWait(driver, 12).until(EC.element_to_be_clickable((By.CSS_SELECTOR, \n",
    "      'body > div.bg > div > div.bg.ng-scope > div.ng-scope > header > nav > div > ul > li.menu-principal.menu-dropdown')))\n",
    "      element.click()\n",
    "      element = WebDriverWait(driver, 12).until(EC.presence_of_element_located((By.CSS_SELECTOR, \n",
    "      'body > div > div > div.bg.ng-scope > div.ng-scope > header > nav > div > ul > li.menu-principal.menu-dropdown.open > ul > div > li:nth-child(1) > ul > li:nth-child(1) > a')))\n",
    "      element.click()\n",
    "      element = WebDriverWait(driver, 12).until(EC.element_to_be_clickable((By.ID,'abaBuscaAvancada')))\n",
    "      element.click()\n",
    "      print(\"Acesso Menu realizado\")\n",
    "    except Exception as e:\n",
    "      print(\"Não foi possível fazer login\")\n",
    "      print(e)\n",
    "  print(\"Operação completa\")\n",
    "  \n",
    "login() "
   ]
  },
  {
   "cell_type": "code",
   "execution_count": null,
   "metadata": {},
   "outputs": [],
   "source": [
    "df_april = pd.read_excel(\"ResultadoConsultaInfracoes_abril.xlsx\", skiprows=5)\n",
    "df_april.columns = df_april.iloc[0]\n",
    "df_april = df_april[1:]\n",
    "df_test = df_april['N. Auto'].head(100)\n",
    "for i in df_test:\n",
    "    print(str(i))   "
   ]
  },
  {
   "cell_type": "code",
   "execution_count": 23,
   "metadata": {},
   "outputs": [],
   "source": [
    "sne_list = []\n",
    "site_list = []\n",
    "date_hour_list = []\n",
    "date_list = []\n",
    "hour_list = []\n",
    "code_list = []\n",
    "reg_list = []\n",
    "\n",
    "def reg_():\n",
    "    reg = [reg.split(': ', 1)[1] for reg in reg_list]\n",
    "    return(reg)\n",
    "\n",
    "def site_():\n",
    "    site = [site.split(': ', 1)[1] for site in site_list]\n",
    "    return(site)\n",
    "\n",
    "def code_():\n",
    "    codes = [code.replace(' - ', '') for code in code_list]\n",
    "    code = [code.split(': ', 1)[1] for code in codes]\n",
    "    return(code)\n",
    "\n",
    "def date_():\n",
    "    date_hour = [date_hour.split(': ', 1)[1] for date_hour in date_hour_list]\n",
    "    date = [date.split(' ', 1)[0] for date in date_hour]\n",
    "    return(date)\n",
    "\n",
    "def hour_():\n",
    "    date_hour = [date_hour.split(': ', 1)[1] for date_hour in date_hour_list]\n",
    "    hour = [hour.split(' ', 1)[1] for hour in date_hour]\n",
    "    return(hour)\n",
    "\n",
    "def souce_finn(auto):\n",
    "    try:\n",
    "        print(\"Inicio Pesquisa\")\n",
    "        element = WebDriverWait(driver, 10).until(EC.presence_of_element_located((By.ID, 'codigo')))\n",
    "        element.clear()\n",
    "        element.send_keys(str(auto))\n",
    "        element = WebDriverWait(driver, 10).until(EC.element_to_be_clickable((By.ID, 'btnBuscaAvancada')))\n",
    "        element.click()\n",
    "        element = WebDriverWait(driver, 12).until(EC.invisibility_of_element((By.CLASS_NAME, 'loading-root')))\n",
    "        table_id = WebDriverWait(driver, 10).until(EC.visibility_of_element_located((By.CSS_SELECTOR, '#vm\\.id > tbody')))\n",
    "        print(\"Informação SEI:\")\n",
    "        rows = table_id.find_elements(By.TAG_NAME, \"tr\") \n",
    "        for row in rows:\n",
    "            col = row.find_elements(By.TAG_NAME, \"td\")[11]\n",
    "            print(col.text)\n",
    "            sne_list.append(col.text)\n",
    "        print(\"Acessando a caixa de informações\")\n",
    "        element = WebDriverWait(driver, 12).until(EC.element_to_be_clickable((By.CSS_SELECTOR, '#vm\\.id > tbody > tr > td:nth-child(2) > a')))\n",
    "        element.click()\n",
    "        element = WebDriverWait(driver, 12).until(EC.invisibility_of_element((By.CLASS_NAME, 'loading-root')))\n",
    "        \n",
    "         # get site\n",
    "        site = driver.find_elements_by_xpath('//*[@id=\"imprimirMulta\"]/fieldset[5]/div/div[1]')[0].text\n",
    "        print(site)\n",
    "        site_list.append(site) \n",
    "        \n",
    "        # get code \n",
    "        code = driver.find_elements_by_xpath('//*[@id=\"imprimirMulta\"]/fieldset[6]/div/div[1]')[0].text\n",
    "        print(code)\n",
    "        code_list.append(code)\n",
    "\n",
    "         # get reg \n",
    "        element = WebDriverWait(driver, 12).until(EC.visibility_of_element_located((By.CSS_SELECTOR, \"#imprimirMulta > fieldset:nth-child(9) > div > div:nth-child(3) > span\")))\n",
    "        if element.is_displayed():\n",
    "            reg = driver.find_elements_by_xpath('//*[@id=\"imprimirMulta\"]/fieldset[7]/div/div[7]')[0].text\n",
    "        else:\n",
    "            reg = driver.find_elements_by_xpath('//*[@id=\"imprimirMulta\"]/fieldset[6]/div/div[7]')[0].text\n",
    "        print(reg)\n",
    "        reg_list.append(reg)\n",
    "\n",
    "        # get  date and hours\n",
    "        date_hour = driver.find_elements_by_xpath('//*[@id=\"imprimirMulta\"]/fieldset[5]/div/div[5]')[0].text\n",
    "        print(date_hour)\n",
    "        date_hour_list.append(date_hour)\n",
    "               \n",
    "        driver.find_element_by_css_selector(\"#btnFecharDetalhe\").click()\n",
    "        \n",
    "    except Exception as e:\n",
    "      print(\"Acesso Pesquisa\")\n",
    "      print(e)\n",
    "      print(\"Operação completa\")\n",
    "\n",
    "\n",
    "# \"//*[@id=\"imprimirMulta\"]/fieldset[7]/div/div[7]\"\n",
    "\n"
   ]
  },
  {
   "cell_type": "code",
   "execution_count": null,
   "metadata": {},
   "outputs": [],
   "source": [
    "for i in df_test:\n",
    "    print(\"Auto:\", i)\n",
    "    souce_finn(i)\n",
    "\n",
    "reg_list = reg_()\n",
    "site_list = site_()\n",
    "code_list = code_()\n",
    "date_list = date_()\n",
    "hour_list = hour_()\n",
    "reg_list = reg_()"
   ]
  }
 ],
 "metadata": {
  "kernelspec": {
   "display_name": "Python 3.10.5 64-bit",
   "language": "python",
   "name": "python3"
  },
  "language_info": {
   "codemirror_mode": {
    "name": "ipython",
    "version": 3
   },
   "file_extension": ".py",
   "mimetype": "text/x-python",
   "name": "python",
   "nbconvert_exporter": "python",
   "pygments_lexer": "ipython3",
   "version": "3.10.5"
  },
  "orig_nbformat": 4,
  "vscode": {
   "interpreter": {
    "hash": "3819be7d046ce7172a29c7ea62930819e69ea9f7858c8a1754d32b30aaf1189d"
   }
  }
 },
 "nbformat": 4,
 "nbformat_minor": 2
}
