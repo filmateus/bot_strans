{
 "cells": [
  {
   "cell_type": "code",
   "execution_count": 3,
   "metadata": {},
   "outputs": [],
   "source": [
    "# import packages\n",
    "import pandas as pd\n",
    "import time\n",
    "import datetime\n",
    "import numpy as np\n",
    "import matplotlib.pyplot as plt\n",
    "import chromedriver_binary\n",
    "import random\n",
    "from datetime import timedelta, date\n",
    "from selenium import webdriver\n",
    "from selenium.webdriver.support.ui import Select\n",
    "from selenium.webdriver.support.ui import WebDriverWait\n",
    "from selenium.webdriver.common.by import By\n",
    "from selenium.webdriver.support import expected_conditions as EC\n",
    "from selenium.webdriver.edge.options import Options\n",
    "from selenium.common.exceptions import NoSuchElementException"
   ]
  },
  {
   "cell_type": "code",
   "execution_count": 4,
   "metadata": {},
   "outputs": [],
   "source": [
    "#parametros e site\n",
    "params = {'login':'04222526380',\n",
    "          'password':'339715'}\n",
    "\n",
    "driver = webdriver.Edge() # escolhendo o driver\n",
    "driver.get(\"https://radar.serpro.gov.br/\")# select site\n"
   ]
  },
  {
   "cell_type": "code",
   "execution_count": 5,
   "metadata": {},
   "outputs": [
    {
     "name": "stderr",
     "output_type": "stream",
     "text": [
      "C:\\Users\\Filipe\\AppData\\Local\\Temp\\ipykernel_8816\\3153827461.py:9: DeprecationWarning: find_element_by_* commands are deprecated. Please use find_element() instead\n",
      "  element = driver.find_element_by_id('Entrar')\n"
     ]
    },
    {
     "name": "stdout",
     "output_type": "stream",
     "text": [
      "login feito\n",
      "Acesso Menu realizado\n",
      "Operação completa\n"
     ]
    }
   ],
   "source": [
    "def login():\n",
    "  currentUrl = driver.current_url;\n",
    "  if currentUrl == \"https://radar.serpro.gov.br/main.html#/login\":\n",
    "    try:\n",
    "      element = WebDriverWait(driver, 10).until(EC.presence_of_element_located((By.ID, 'usuario')))       \n",
    "      element.send_keys(params['login'])\n",
    "      element = driver.find_element(By.ID, \"password\")\n",
    "      element.send_keys(params['password'])\n",
    "      element = driver.find_element_by_id('Entrar')\n",
    "      element.click()\n",
    "      print(\"login feito\")\n",
    "      #acess the search of the taxs\n",
    "      element = WebDriverWait(driver, 12).until(EC.element_to_be_clickable((By.CSS_SELECTOR, \n",
    "      'body > div.bg > div > div.bg.ng-scope > div.ng-scope > header > nav > div > ul > li.menu-principal.menu-dropdown')))\n",
    "      element.click()\n",
    "      element = WebDriverWait(driver, 12).until(EC.presence_of_element_located((By.CSS_SELECTOR, \n",
    "      'body > div > div > div.bg.ng-scope > div.ng-scope > header > nav > div > ul > li.menu-principal.menu-dropdown.open > ul > div > li:nth-child(1) > ul > li:nth-child(1) > a')))\n",
    "      element.click()\n",
    "      element = WebDriverWait(driver, 12).until(EC.element_to_be_clickable((By.ID,'abaBuscaAvancada')))\n",
    "      element.click()\n",
    "      print(\"Acesso Menu realizado\")\n",
    "    except Exception as e:\n",
    "      print(\"Não foi possível fazer login\")\n",
    "      print(e)\n",
    "  print(\"Operação completa\")\n",
    "  \n",
    "login() "
   ]
  },
  {
   "cell_type": "code",
   "execution_count": 31,
   "metadata": {},
   "outputs": [
    {
     "name": "stderr",
     "output_type": "stream",
     "text": [
      "c:\\Users\\Filipe\\AppData\\Local\\Programs\\Python\\Python310\\lib\\site-packages\\openpyxl\\styles\\stylesheet.py:226: UserWarning: Workbook contains no default style, apply openpyxl's default\n",
      "  warn(\"Workbook contains no default style, apply openpyxl's default\")\n"
     ]
    },
    {
     "name": "stdout",
     "output_type": "stream",
     "text": [
      "ER00010639\n",
      "ER00010638\n",
      "ER00010637\n",
      "ER00010636\n",
      "ER00010635\n",
      "ER00010634\n",
      "ER00010633\n",
      "ER00010154\n",
      "ER00010632\n",
      "ER00010631\n"
     ]
    }
   ],
   "source": [
    "df_abril = pd.read_excel(\"ResultadoConsultaInfracoes_abril.xlsx\", skiprows=5)\n",
    "df_abril.columns = df_abril.iloc[0]\n",
    "df_abril = df_abril[1:]\n",
    "df_teste = df_abril['N. Auto'].head(10)\n",
    "for i in df_teste:\n",
    "    print(str(i))    "
   ]
  },
  {
   "cell_type": "code",
   "execution_count": 38,
   "metadata": {},
   "outputs": [],
   "source": [
    "sne_list = []\n",
    "local_list = []\n",
    "data_hora_list = []\n",
    "codigo_list = []\n",
    "agente_list = []\n",
    "\n",
    "\n",
    "\n",
    "def souce_finn(auto):\n",
    "    try:\n",
    "        element = WebDriverWait(driver, 10).until(EC.presence_of_element_located((By.ID, 'codigo')))\n",
    "        element.clear()\n",
    "        element.send_keys(str(auto))\n",
    "        element = driver.find_element_by_id('btnBuscaAvancada')\n",
    "        element.click()\n",
    "        print(\"Pesquisa Realizada\")\n",
    "        time.sleep(2)\n",
    "        table_id = driver.find_element_by_css_selector('#vm\\.id > tbody')\n",
    "        rows = table_id.find_elements(By.TAG_NAME, \"tr\") \n",
    "        for row in rows:\n",
    "            col = row.find_elements(By.TAG_NAME, \"td\")[11] \n",
    "            sne_list.append(col.text)\n",
    "        element = WebDriverWait(driver, 12).until(EC.element_to_be_clickable((By.CSS_SELECTOR, '#vm\\.id > tbody > tr > td:nth-child(2) > a')))\n",
    "        element.click()\n",
    "        # time.sleep(2)\n",
    "        WebDriverWait(driver, 12).until(EC.presence_of_element_located((By.CSS_SELECTOR, 'body > div.modal.ng-isolate-scope.in > div > div > div.modal-header.ng-scope > h4')))\n",
    "        local = driver.find_elements_by_xpath('//*[@id=\"imprimirMulta\"]/fieldset[5]/div/div[1]')[0].text\n",
    "        data_hora = driver.find_elements_by_xpath('//*[@id=\"imprimirMulta\"]/fieldset[5]/div/div[5]')[0].text\n",
    "        codigo = driver.find_elements_by_xpath('//*[@id=\"imprimirMulta\"]/fieldset[6]/div/div[1]')[0].text\n",
    "        agente = driver.find_elements_by_xpath('//*[@id=\"imprimirMulta\"]/fieldset[6]/div/div[7]')[0].text\n",
    "        print(local)\n",
    "        local_list.append(local)\n",
    "        print(data_hora)\n",
    "        data_hora_list.append(data_hora)\n",
    "        print(codigo)\n",
    "        codigo_list.append(codigo)\n",
    "        print(agente)\n",
    "        agente_list.append(agente)\n",
    "        driver.find_element_by_css_selector(\"#btnFecharDetalhe\").click()\n",
    "    except Exception as e:\n",
    "      print(\"Acesso Pesquisa\")\n",
    "      print(e)\n",
    "      print(\"Operação completa\")\n",
    "\n",
    "# souce_fine()\n"
   ]
  },
  {
   "cell_type": "code",
   "execution_count": null,
   "metadata": {},
   "outputs": [],
   "source": [
    "for i in df_teste:\n",
    "    print(i)\n",
    "    souce_finn(i)"
   ]
  },
  {
   "cell_type": "code",
   "execution_count": 57,
   "metadata": {},
   "outputs": [
    {
     "data": {
      "text/plain": [
       "['10750',\n",
       " '10750',\n",
       " '10750',\n",
       " '10750',\n",
       " '10750',\n",
       " '10750',\n",
       " '10750',\n",
       " '43484',\n",
       " '10750',\n",
       " '10750']"
      ]
     },
     "execution_count": 57,
     "metadata": {},
     "output_type": "execute_result"
    }
   ],
   "source": [
    "matricula = [matricula.split(': ', 1)[1] for matricula in agente_list]\n",
    "matricula"
   ]
  },
  {
   "cell_type": "code",
   "execution_count": 58,
   "metadata": {},
   "outputs": [
    {
     "data": {
      "text/plain": [
       "['Av. Maranhao, prox ao n. 2141',\n",
       " 'AVENIDA JOSE FRANCISCO DE ALMEIDA NETO, N. 2767',\n",
       " 'Av. Maranhao, prox ao n. 2141',\n",
       " 'AVENIDA JOSE FRANCISCO DE ALMEIDA NETO, N. 2767',\n",
       " 'AV. PRESIDENTE KENNEDY, PROX AO COND TERRA DOS PASSAROS',\n",
       " 'AV. PRESIDENTE KENNEDY, PROX AO COND TERRA DOS PASSAROS',\n",
       " 'AVENIDA JOSE FRANCISCO DE ALMEIDA NETO N. 2767',\n",
       " 'Av. Pres. Kennedy com a Av. Dom Severino',\n",
       " 'AV. PRESIDENTE KENNEDY, PROX AO COND TERRA DOS PASSAROS',\n",
       " 'Av. Miguel Rosa, prox. 25 BC']"
      ]
     },
     "execution_count": 58,
     "metadata": {},
     "output_type": "execute_result"
    }
   ],
   "source": [
    "# separando as strings de local\n",
    "local = [local.split(': ', 1)[1] for local in local_list]\n",
    "local"
   ]
  },
  {
   "cell_type": "code",
   "execution_count": 60,
   "metadata": {},
   "outputs": [
    {
     "data": {
      "text/plain": [
       "['74630',\n",
       " '74550',\n",
       " '74550',\n",
       " '74630',\n",
       " '74550',\n",
       " '74550',\n",
       " '74630',\n",
       " '75870',\n",
       " '74550',\n",
       " '74630']"
      ]
     },
     "execution_count": 60,
     "metadata": {},
     "output_type": "execute_result"
    }
   ],
   "source": [
    "codigos = [codigo.replace(' - ', '') for codigo in codigo_list]\n",
    "codigo = [codigo.split(': ', 1)[1] for codigo in codigos]\n",
    "codigo"
   ]
  },
  {
   "cell_type": "code",
   "execution_count": 68,
   "metadata": {},
   "outputs": [
    {
     "data": {
      "text/plain": [
       "['30/04/2022',\n",
       " '30/04/2022',\n",
       " '30/04/2022',\n",
       " '30/04/2022',\n",
       " '30/04/2022',\n",
       " '30/04/2022',\n",
       " '30/04/2022',\n",
       " '30/04/2022',\n",
       " '30/04/2022',\n",
       " '30/04/2022']"
      ]
     },
     "execution_count": 68,
     "metadata": {},
     "output_type": "execute_result"
    }
   ],
   "source": [
    "hora_data = [hora_data.split(': ', 1)[1] for hora_data in data_hora_list]\n",
    "data = [data.split(' ', 1)[0] for data in hora_data]\n",
    "data"
   ]
  },
  {
   "cell_type": "code",
   "execution_count": 71,
   "metadata": {},
   "outputs": [
    {
     "data": {
      "text/plain": [
       "['23:58:47',\n",
       " '23:50:05',\n",
       " '23:36:54',\n",
       " '23:18:13',\n",
       " '23:11:59',\n",
       " '23:10:34',\n",
       " '23:08:55',\n",
       " '23:05:40',\n",
       " '22:55:33',\n",
       " '22:37:30']"
      ]
     },
     "execution_count": 71,
     "metadata": {},
     "output_type": "execute_result"
    }
   ],
   "source": [
    "hora = [hora.split(' ', 1)[1] for hora in hora_data]\n",
    "hora"
   ]
  }
 ],
 "metadata": {
  "kernelspec": {
   "display_name": "Python 3.10.5 64-bit",
   "language": "python",
   "name": "python3"
  },
  "language_info": {
   "codemirror_mode": {
    "name": "ipython",
    "version": 3
   },
   "file_extension": ".py",
   "mimetype": "text/x-python",
   "name": "python",
   "nbconvert_exporter": "python",
   "pygments_lexer": "ipython3",
   "version": "3.10.5"
  },
  "orig_nbformat": 4,
  "vscode": {
   "interpreter": {
    "hash": "3819be7d046ce7172a29c7ea62930819e69ea9f7858c8a1754d32b30aaf1189d"
   }
  }
 },
 "nbformat": 4,
 "nbformat_minor": 2
}
